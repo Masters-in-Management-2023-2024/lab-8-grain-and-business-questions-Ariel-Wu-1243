{
  "cells": [
    {
      "cell_type": "markdown",
      "metadata": {
        "id": "DsdiU6xJ0_V0"
      },
      "source": [
        "# Diamond Company Analytics Challenge\n",
        "\n",
        "**Time:** 35 minutes\n",
        "\n",
        "**Scenario:** You are the new data analyst at a prestigious diamond company. The CEO has called an urgent meeting and needs answers to critical business questions about the inventory.\n",
        "\n",
        "**Your Mission:** Analyze the diamond inventory data and provide insights to guide strategic decisions."
      ]
    },
    {
      "cell_type": "code",
      "execution_count": 2,
      "metadata": {
        "colab": {
          "base_uri": "https://localhost:8080/"
        },
        "id": "Md7VD5GB0_V6",
        "outputId": "435c7c4f-af68-44ee-9036-5063b257cf28"
      },
      "outputs": [
        {
          "output_type": "stream",
          "name": "stdout",
          "text": [
            "Loading diamonds dataset...\n",
            "Dataset loaded successfully!\n"
          ]
        }
      ],
      "source": [
        "import polars as pl\n",
        "\n",
        "# Load the diamonds dataset\n",
        "print(\"Loading diamonds dataset...\")\n",
        "df = pl.read_csv('https://raw.githubusercontent.com/pycaret/pycaret/master/datasets/diamond.csv')\n",
        "print(\"Dataset loaded successfully!\")"
      ]
    },
    {
      "cell_type": "markdown",
      "metadata": {
        "id": "I1iqM6vM0_V7"
      },
      "source": [
        "## Section 1: Initial Inventory Assessment (5 minutes)\n",
        "\n",
        "The CEO walks in: \"Before we dive into specifics, I need to understand what we're working with. Give me the basics about our inventory database.\""
      ]
    },
    {
      "cell_type": "markdown",
      "metadata": {
        "id": "mJWVERWn0_V8"
      },
      "source": [
        "### Question 1: \"How extensive is our inventory database?\"\n",
        "\n",
        "The CEO needs to know the scale of data you're analyzing."
      ]
    },
    {
      "cell_type": "code",
      "execution_count": 3,
      "metadata": {
        "colab": {
          "base_uri": "https://localhost:8080/"
        },
        "id": "RIUrH8z40_V8",
        "outputId": "bd5e1f39-b596-4f0c-fcaf-fc9f5d280e69"
      },
      "outputs": [
        {
          "output_type": "stream",
          "name": "stdout",
          "text": [
            "The scale of our inventory database is 6000 rows and 8 columns.\n"
          ]
        }
      ],
      "source": [
        "# Your code here:\n",
        "print(f\"The scale of our inventory database is {df.shape[0]} rows and {df.shape[1]} columns.\")"
      ]
    },
    {
      "cell_type": "markdown",
      "metadata": {
        "id": "F3aEFv3i0_V9"
      },
      "source": [
        "### Question 2: \"What information do we track about each diamond?\"\n",
        "\n",
        "List all the characteristics we record."
      ]
    },
    {
      "cell_type": "code",
      "execution_count": 4,
      "metadata": {
        "colab": {
          "base_uri": "https://localhost:8080/"
        },
        "id": "KQBRg_c_0_V9",
        "outputId": "66d68042-48d5-4b8b-a10d-a5808541f830"
      },
      "outputs": [
        {
          "output_type": "stream",
          "name": "stdout",
          "text": [
            "The information we tracked about each diamond:\n",
            "Carat Weight\n",
            "Cut\n",
            "Color\n",
            "Clarity\n",
            "Polish\n",
            "Symmetry\n",
            "Report\n",
            "Price\n"
          ]
        }
      ],
      "source": [
        "# Your code here:\n",
        "print(\"The information we tracked about each diamond:\")\n",
        "for col in df.columns:\n",
        "  print(f\"{col}\")"
      ]
    },
    {
      "cell_type": "markdown",
      "metadata": {
        "id": "ON6pTTo90_V9"
      },
      "source": [
        "### Question 3: \"When I look at one line in this database, what am I looking at?\"\n",
        "\n",
        "Explain in business terms:"
      ]
    },
    {
      "cell_type": "markdown",
      "metadata": {
        "id": "_33D5kUD0_V-"
      },
      "source": [
        "**Your answer:** Each row represents: A diamond"
      ]
    },
    {
      "cell_type": "markdown",
      "metadata": {
        "id": "Gx_fzOIi0_V-"
      },
      "source": [
        "## Section 2: Strategic Business Questions (20 minutes)\n",
        "\n",
        "The CEO continues: \"Now let's get to the important questions. Our board meeting is tomorrow and I need concrete numbers.\""
      ]
    },
    {
      "cell_type": "markdown",
      "metadata": {
        "id": "iFvaRMuV0_V_"
      },
      "source": [
        "### Question 4: \"We're considering expanding our storage facilities. How many total carats do we have in inventory? I need to know if our vaults can handle the weight.\"\n",
        "\n",
        "Think about what measurement would help answer this."
      ]
    },
    {
      "cell_type": "code",
      "execution_count": 5,
      "metadata": {
        "colab": {
          "base_uri": "https://localhost:8080/"
        },
        "id": "qZcXrs-T0_V_",
        "outputId": "82e4a119-0c63-438f-ac88-9fde17a32837"
      },
      "outputs": [
        {
          "output_type": "stream",
          "name": "stdout",
          "text": [
            "We have a total of 8007.120000000001 carats in inventory.\n"
          ]
        }
      ],
      "source": [
        "# Your code here:\n",
        "carats = df.select(pl.col(\"Carat Weight\").sum()).item()\n",
        "print(f\"We have a total of {carats} carats in inventory.\")"
      ]
    },
    {
      "cell_type": "markdown",
      "metadata": {
        "id": "SmkKkUc40_V_"
      },
      "source": [
        "### Question 5: \"Our new marketing campaign claims we have 'the widest variety of cuts in the industry.' Can you verify this?\"\n",
        "\n",
        "The CEO wants to know about variety, not quantity."
      ]
    },
    {
      "cell_type": "code",
      "execution_count": 6,
      "metadata": {
        "colab": {
          "base_uri": "https://localhost:8080/"
        },
        "id": "kduX8iEr0_V_",
        "outputId": "c72d347c-6a6a-402d-a3f3-df1d3734675e"
      },
      "outputs": [
        {
          "output_type": "stream",
          "name": "stdout",
          "text": [
            "Our variety of cuts: 5\n"
          ]
        }
      ],
      "source": [
        "# Your code here:\n",
        "variety_cuts = df.select(pl.col(\"Cut\").n_unique()).item()\n",
        "print(f\"Our variety of cuts: {variety_cuts}\")"
      ]
    },
    {
      "cell_type": "markdown",
      "source": [
        "\n",
        "\n",
        "---\n",
        "\n",
        "\n",
        "\n",
        "---\n",
        "\n"
      ],
      "metadata": {
        "id": "7TOLRnXl63QQ"
      }
    },
    {
      "cell_type": "markdown",
      "metadata": {
        "id": "uwmSopHA0_V_"
      },
      "source": [
        "### Question 6: \"I'm meeting with our insurance company. They need to know our price exposure - what's our most and least valuable diamond?\""
      ]
    },
    {
      "cell_type": "code",
      "execution_count": 7,
      "metadata": {
        "id": "23rGzIu70_WA",
        "colab": {
          "base_uri": "https://localhost:8080/",
          "height": 293
        },
        "outputId": "41e819f1-623d-4b26-a35c-d8bc72a9eef2"
      },
      "outputs": [
        {
          "output_type": "stream",
          "name": "stdout",
          "text": [
            "Most valuable diamond:\n"
          ]
        },
        {
          "output_type": "display_data",
          "data": {
            "text/plain": [
              "shape: (1, 8)\n",
              "┌──────────────┬───────┬───────┬─────────┬────────┬──────────┬────────┬────────┐\n",
              "│ Carat Weight ┆ Cut   ┆ Color ┆ Clarity ┆ Polish ┆ Symmetry ┆ Report ┆ Price  │\n",
              "│ ---          ┆ ---   ┆ ---   ┆ ---     ┆ ---    ┆ ---      ┆ ---    ┆ ---    │\n",
              "│ f64          ┆ str   ┆ str   ┆ str     ┆ str    ┆ str      ┆ str    ┆ i64    │\n",
              "╞══════════════╪═══════╪═══════╪═════════╪════════╪══════════╪════════╪════════╡\n",
              "│ 2.79         ┆ Ideal ┆ D     ┆ IF      ┆ EX     ┆ EX       ┆ GIA    ┆ 101561 │\n",
              "└──────────────┴───────┴───────┴─────────┴────────┴──────────┴────────┴────────┘"
            ],
            "text/html": [
              "<div><style>\n",
              ".dataframe > thead > tr,\n",
              ".dataframe > tbody > tr {\n",
              "  text-align: right;\n",
              "  white-space: pre-wrap;\n",
              "}\n",
              "</style>\n",
              "<small>shape: (1, 8)</small><table border=\"1\" class=\"dataframe\"><thead><tr><th>Carat Weight</th><th>Cut</th><th>Color</th><th>Clarity</th><th>Polish</th><th>Symmetry</th><th>Report</th><th>Price</th></tr><tr><td>f64</td><td>str</td><td>str</td><td>str</td><td>str</td><td>str</td><td>str</td><td>i64</td></tr></thead><tbody><tr><td>2.79</td><td>&quot;Ideal&quot;</td><td>&quot;D&quot;</td><td>&quot;IF&quot;</td><td>&quot;EX&quot;</td><td>&quot;EX&quot;</td><td>&quot;GIA&quot;</td><td>101561</td></tr></tbody></table></div>"
            ]
          },
          "metadata": {}
        },
        {
          "output_type": "stream",
          "name": "stdout",
          "text": [
            "\n",
            "Least valuable diamond:\n"
          ]
        },
        {
          "output_type": "display_data",
          "data": {
            "text/plain": [
              "shape: (1, 8)\n",
              "┌──────────────┬──────┬───────┬─────────┬────────┬──────────┬────────┬───────┐\n",
              "│ Carat Weight ┆ Cut  ┆ Color ┆ Clarity ┆ Polish ┆ Symmetry ┆ Report ┆ Price │\n",
              "│ ---          ┆ ---  ┆ ---   ┆ ---     ┆ ---    ┆ ---      ┆ ---    ┆ ---   │\n",
              "│ f64          ┆ str  ┆ str   ┆ str     ┆ str    ┆ str      ┆ str    ┆ i64   │\n",
              "╞══════════════╪══════╪═══════╪═════════╪════════╪══════════╪════════╪═══════╡\n",
              "│ 0.77         ┆ Good ┆ I     ┆ VS1     ┆ VG     ┆ G        ┆ AGSL   ┆ 2184  │\n",
              "└──────────────┴──────┴───────┴─────────┴────────┴──────────┴────────┴───────┘"
            ],
            "text/html": [
              "<div><style>\n",
              ".dataframe > thead > tr,\n",
              ".dataframe > tbody > tr {\n",
              "  text-align: right;\n",
              "  white-space: pre-wrap;\n",
              "}\n",
              "</style>\n",
              "<small>shape: (1, 8)</small><table border=\"1\" class=\"dataframe\"><thead><tr><th>Carat Weight</th><th>Cut</th><th>Color</th><th>Clarity</th><th>Polish</th><th>Symmetry</th><th>Report</th><th>Price</th></tr><tr><td>f64</td><td>str</td><td>str</td><td>str</td><td>str</td><td>str</td><td>str</td><td>i64</td></tr></thead><tbody><tr><td>0.77</td><td>&quot;Good&quot;</td><td>&quot;I&quot;</td><td>&quot;VS1&quot;</td><td>&quot;VG&quot;</td><td>&quot;G&quot;</td><td>&quot;AGSL&quot;</td><td>2184</td></tr></tbody></table></div>"
            ]
          },
          "metadata": {}
        }
      ],
      "source": [
        "# Your code here:\n",
        "\n",
        "most_valuable = df.sort(\"Price\", descending=True).head(1)\n",
        "least_valuable = df.sort(\"Price\", descending=False).head(1)\n",
        "\n",
        "print(\"Most valuable diamond:\")\n",
        "display(most_valuable)\n",
        "\n",
        "print(\"\\nLeast valuable diamond:\")\n",
        "display(least_valuable)"
      ]
    },
    {
      "cell_type": "markdown",
      "metadata": {
        "id": "aIMdPCXV0_WA"
      },
      "source": [
        "### Question 7: \"Which color grades should we focus on in our premium line? I need typical prices across our color spectrum.\"\n",
        "\n",
        "The CEO wants to understand pricing patterns."
      ]
    },
    {
      "cell_type": "code",
      "execution_count": 11,
      "metadata": {
        "id": "I1SDPXxx0_WA",
        "colab": {
          "base_uri": "https://localhost:8080/",
          "height": 286
        },
        "outputId": "5b125d83-cadb-485f-9c50-16ce96ae0a50"
      },
      "outputs": [
        {
          "output_type": "execute_result",
          "data": {
            "text/plain": [
              "shape: (6, 2)\n",
              "┌───────┬───────────────┐\n",
              "│ Color ┆ Typical Price │\n",
              "│ ---   ┆ ---           │\n",
              "│ str   ┆ f64           │\n",
              "╞═══════╪═══════════════╡\n",
              "│ D     ┆ 15255.783661  │\n",
              "│ F     ┆ 12712.241856  │\n",
              "│ G     ┆ 12520.050633  │\n",
              "│ E     ┆ 11539.190231  │\n",
              "│ H     ┆ 10487.347544  │\n",
              "│ I     ┆ 8989.636364   │\n",
              "└───────┴───────────────┘"
            ],
            "text/html": [
              "<div><style>\n",
              ".dataframe > thead > tr,\n",
              ".dataframe > tbody > tr {\n",
              "  text-align: right;\n",
              "  white-space: pre-wrap;\n",
              "}\n",
              "</style>\n",
              "<small>shape: (6, 2)</small><table border=\"1\" class=\"dataframe\"><thead><tr><th>Color</th><th>Typical Price</th></tr><tr><td>str</td><td>f64</td></tr></thead><tbody><tr><td>&quot;D&quot;</td><td>15255.783661</td></tr><tr><td>&quot;F&quot;</td><td>12712.241856</td></tr><tr><td>&quot;G&quot;</td><td>12520.050633</td></tr><tr><td>&quot;E&quot;</td><td>11539.190231</td></tr><tr><td>&quot;H&quot;</td><td>10487.347544</td></tr><tr><td>&quot;I&quot;</td><td>8989.636364</td></tr></tbody></table></div>"
            ]
          },
          "metadata": {},
          "execution_count": 11
        }
      ],
      "source": [
        "# Your code here:\n",
        "\n",
        "typical_price = df.group_by(\"Color\").agg(pl.col(\"Price\").mean().alias(\"Typical Price\")).sort(\"Typical Price\", descending=True)\n",
        "typical_price"
      ]
    },
    {
      "cell_type": "markdown",
      "metadata": {
        "id": "xH8IdCl40_WA"
      },
      "source": [
        "**Reflection:** After analyzing by color, how has your view of the data changed? What does each row in your result represent now?"
      ]
    },
    {
      "cell_type": "markdown",
      "metadata": {
        "id": "2b0VBfrO0_WA"
      },
      "source": [
        "**Your answer:** New grain = a color grade; each row now represents the typical (average) price of a color grade."
      ]
    },
    {
      "cell_type": "markdown",
      "metadata": {
        "id": "ZrOejBiG0_WA"
      },
      "source": [
        "## Section 3: Advanced Strategic Analysis (10 minutes)\n",
        "\n",
        "The CEO leans forward: \"These next questions will shape our strategy for next year.\""
      ]
    },
    {
      "cell_type": "markdown",
      "metadata": {
        "id": "iIso2y-80_WA"
      },
      "source": [
        "### Question 8: \"We're thinking of specializing in certain clarity grades. For our investor deck, I need a complete breakdown showing: how many diamonds we have in each clarity grade, their typical price, and the total carats we're holding for each grade.\""
      ]
    },
    {
      "cell_type": "code",
      "execution_count": 20,
      "metadata": {
        "id": "Ud4TpgTl0_WA",
        "colab": {
          "base_uri": "https://localhost:8080/",
          "height": 317
        },
        "outputId": "ca3a87b6-610e-41c2-c53b-926dd2cab2ac"
      },
      "outputs": [
        {
          "output_type": "execute_result",
          "data": {
            "text/plain": [
              "shape: (7, 4)\n",
              "┌─────────┬────────────────────┬───────────────┬──────────────┐\n",
              "│ Clarity ┆ Number of Diamonds ┆ Typical Price ┆ Total Carats │\n",
              "│ ---     ┆ ---                ┆ ---           ┆ ---          │\n",
              "│ str     ┆ u32                ┆ f64           ┆ f64          │\n",
              "╞═════════╪════════════════════╪═══════════════╪══════════════╡\n",
              "│ SI1     ┆ 2059               ┆ 8018.864012   ┆ 2563.69      │\n",
              "│ VS2     ┆ 1575               ┆ 11809.053333  ┆ 2170.81      │\n",
              "│ VS1     ┆ 1192               ┆ 13694.113255  ┆ 1682.74      │\n",
              "│ VVS2    ┆ 666                ┆ 14142.177177  ┆ 876.58       │\n",
              "│ VVS1    ┆ 285                ┆ 16845.680702  ┆ 389.43       │\n",
              "│ IF      ┆ 219                ┆ 22105.844749  ┆ 316.0        │\n",
              "│ FL      ┆ 4                  ┆ 63776.0       ┆ 7.87         │\n",
              "└─────────┴────────────────────┴───────────────┴──────────────┘"
            ],
            "text/html": [
              "<div><style>\n",
              ".dataframe > thead > tr,\n",
              ".dataframe > tbody > tr {\n",
              "  text-align: right;\n",
              "  white-space: pre-wrap;\n",
              "}\n",
              "</style>\n",
              "<small>shape: (7, 4)</small><table border=\"1\" class=\"dataframe\"><thead><tr><th>Clarity</th><th>Number of Diamonds</th><th>Typical Price</th><th>Total Carats</th></tr><tr><td>str</td><td>u32</td><td>f64</td><td>f64</td></tr></thead><tbody><tr><td>&quot;SI1&quot;</td><td>2059</td><td>8018.864012</td><td>2563.69</td></tr><tr><td>&quot;VS2&quot;</td><td>1575</td><td>11809.053333</td><td>2170.81</td></tr><tr><td>&quot;VS1&quot;</td><td>1192</td><td>13694.113255</td><td>1682.74</td></tr><tr><td>&quot;VVS2&quot;</td><td>666</td><td>14142.177177</td><td>876.58</td></tr><tr><td>&quot;VVS1&quot;</td><td>285</td><td>16845.680702</td><td>389.43</td></tr><tr><td>&quot;IF&quot;</td><td>219</td><td>22105.844749</td><td>316.0</td></tr><tr><td>&quot;FL&quot;</td><td>4</td><td>63776.0</td><td>7.87</td></tr></tbody></table></div>"
            ]
          },
          "metadata": {},
          "execution_count": 20
        }
      ],
      "source": [
        "# Your code here:\n",
        "\n",
        "diamond_counts = df.group_by(\"Clarity\").agg(pl.len().alias(\"Number of Diamonds\"))\n",
        "typical_price_clarity = df.group_by(\"Clarity\").agg(pl.col(\"Price\").mean().alias(\"Typical Price\"))\n",
        "total_carats = df.group_by(\"Clarity\").agg(pl.col(\"Carat Weight\").sum().alias(\"Total Carats\"))\n",
        "\n",
        "breakdown = diamond_counts.join(typical_price_clarity, on=\"Clarity\").join(total_carats, on=\"Clarity\").sort(\"Number of Diamonds\", descending=True)\n",
        "breakdown\n"
      ]
    },
    {
      "cell_type": "markdown",
      "metadata": {
        "id": "3RjCgNNN0_WB"
      },
      "source": [
        "### Question 9: \"My luxury competitor claims they have the best prices for every cut-color combination. Show me our pricing structure across these combinations - I want to see where we're competitive.\""
      ]
    },
    {
      "cell_type": "code",
      "execution_count": 28,
      "metadata": {
        "id": "3t3uwAF-0_WB",
        "colab": {
          "base_uri": "https://localhost:8080/",
          "height": 443
        },
        "outputId": "6b382560-d2bf-4187-a15c-bed86f5c9185"
      },
      "outputs": [
        {
          "output_type": "execute_result",
          "data": {
            "text/plain": [
              "shape: (30, 3)\n",
              "┌─────────────────┬───────┬───────────────┐\n",
              "│ Cut             ┆ Color ┆ Typical Price │\n",
              "│ ---             ┆ ---   ┆ ---           │\n",
              "│ str             ┆ str   ┆ f64           │\n",
              "╞═════════════════╪═══════╪═══════════════╡\n",
              "│ Signature-Ideal ┆ D     ┆ 19823.1       │\n",
              "│ Ideal           ┆ D     ┆ 18461.953571  │\n",
              "│ Ideal           ┆ F     ┆ 14729.426997  │\n",
              "│ Ideal           ┆ G     ┆ 13570.310145  │\n",
              "│ Signature-Ideal ┆ F     ┆ 13247.947368  │\n",
              "│ …               ┆ …     ┆ …             │\n",
              "│ Fair            ┆ F     ┆ 6063.625      │\n",
              "│ Fair            ┆ D     ┆ 6058.25       │\n",
              "│ Fair            ┆ H     ┆ 5908.5        │\n",
              "│ Fair            ┆ E     ┆ 5370.625      │\n",
              "│ Fair            ┆ I     ┆ 4573.1875     │\n",
              "└─────────────────┴───────┴───────────────┘"
            ],
            "text/html": [
              "<div><style>\n",
              ".dataframe > thead > tr,\n",
              ".dataframe > tbody > tr {\n",
              "  text-align: right;\n",
              "  white-space: pre-wrap;\n",
              "}\n",
              "</style>\n",
              "<small>shape: (30, 3)</small><table border=\"1\" class=\"dataframe\"><thead><tr><th>Cut</th><th>Color</th><th>Typical Price</th></tr><tr><td>str</td><td>str</td><td>f64</td></tr></thead><tbody><tr><td>&quot;Signature-Ideal&quot;</td><td>&quot;D&quot;</td><td>19823.1</td></tr><tr><td>&quot;Ideal&quot;</td><td>&quot;D&quot;</td><td>18461.953571</td></tr><tr><td>&quot;Ideal&quot;</td><td>&quot;F&quot;</td><td>14729.426997</td></tr><tr><td>&quot;Ideal&quot;</td><td>&quot;G&quot;</td><td>13570.310145</td></tr><tr><td>&quot;Signature-Ideal&quot;</td><td>&quot;F&quot;</td><td>13247.947368</td></tr><tr><td>&hellip;</td><td>&hellip;</td><td>&hellip;</td></tr><tr><td>&quot;Fair&quot;</td><td>&quot;F&quot;</td><td>6063.625</td></tr><tr><td>&quot;Fair&quot;</td><td>&quot;D&quot;</td><td>6058.25</td></tr><tr><td>&quot;Fair&quot;</td><td>&quot;H&quot;</td><td>5908.5</td></tr><tr><td>&quot;Fair&quot;</td><td>&quot;E&quot;</td><td>5370.625</td></tr><tr><td>&quot;Fair&quot;</td><td>&quot;I&quot;</td><td>4573.1875</td></tr></tbody></table></div>"
            ]
          },
          "metadata": {},
          "execution_count": 28
        }
      ],
      "source": [
        "# Your code here:\n",
        "\n",
        "pricing_cut_color = df.group_by([\"Cut\", \"Color\"]).agg(\n",
        "    pl.col(\"Price\").mean().alias(\"Typical Price\")\n",
        ").sort(\"Typical Price\", descending=True)\n",
        "\n",
        "pricing_cut_color"
      ]
    },
    {
      "cell_type": "markdown",
      "metadata": {
        "id": "v-YKN8f_0_WB"
      },
      "source": [
        "**Reflection:** How specific is your analysis now? What level of detail does each row represent?"
      ]
    },
    {
      "cell_type": "markdown",
      "metadata": {
        "id": "o0ZAJF4K0_WB"
      },
      "source": [
        "**Your answer:** New grain = cut-color relationship. Each row now represents the typical (average) price for diamonds with a certain cut and color.\n"
      ]
    },
    {
      "cell_type": "markdown",
      "metadata": {
        "id": "kqwUzSXQ0_WB"
      },
      "source": [
        "### Question 10: URGENT - \"Our biggest client is interested in purchasing entire inventory segments. They asked: 'Which color-cut combinations represent your highest total inventory value?' Show me the top 5 most valuable inventory segments by total worth, and include how many diamonds are in each segment.\"\n",
        "\n",
        "This is critical for tomorrow's negotiation."
      ]
    },
    {
      "cell_type": "code",
      "execution_count": 34,
      "metadata": {
        "id": "18ai894M0_WB",
        "colab": {
          "base_uri": "https://localhost:8080/",
          "height": 255
        },
        "outputId": "4334aaff-4ca0-4d7f-e2fc-3481f461e057"
      },
      "outputs": [
        {
          "output_type": "execute_result",
          "data": {
            "text/plain": [
              "shape: (5, 4)\n",
              "┌───────┬───────────┬───────────────────────┬────────────────────┐\n",
              "│ Color ┆ Cut       ┆ Total Inventory Value ┆ Number of Diamonds │\n",
              "│ ---   ┆ ---       ┆ ---                   ┆ ---                │\n",
              "│ str   ┆ str       ┆ i64                   ┆ u32                │\n",
              "╞═══════╪═══════════╪═══════════════════════╪════════════════════╡\n",
              "│ G     ┆ Ideal     ┆ 9363514               ┆ 690                │\n",
              "│ G     ┆ Very Good ┆ 7140620               ┆ 578                │\n",
              "│ F     ┆ Very Good ┆ 5648327               ┆ 455                │\n",
              "│ F     ┆ Ideal     ┆ 5346782               ┆ 363                │\n",
              "│ H     ┆ Ideal     ┆ 5279687               ┆ 458                │\n",
              "└───────┴───────────┴───────────────────────┴────────────────────┘"
            ],
            "text/html": [
              "<div><style>\n",
              ".dataframe > thead > tr,\n",
              ".dataframe > tbody > tr {\n",
              "  text-align: right;\n",
              "  white-space: pre-wrap;\n",
              "}\n",
              "</style>\n",
              "<small>shape: (5, 4)</small><table border=\"1\" class=\"dataframe\"><thead><tr><th>Color</th><th>Cut</th><th>Total Inventory Value</th><th>Number of Diamonds</th></tr><tr><td>str</td><td>str</td><td>i64</td><td>u32</td></tr></thead><tbody><tr><td>&quot;G&quot;</td><td>&quot;Ideal&quot;</td><td>9363514</td><td>690</td></tr><tr><td>&quot;G&quot;</td><td>&quot;Very Good&quot;</td><td>7140620</td><td>578</td></tr><tr><td>&quot;F&quot;</td><td>&quot;Very Good&quot;</td><td>5648327</td><td>455</td></tr><tr><td>&quot;F&quot;</td><td>&quot;Ideal&quot;</td><td>5346782</td><td>363</td></tr><tr><td>&quot;H&quot;</td><td>&quot;Ideal&quot;</td><td>5279687</td><td>458</td></tr></tbody></table></div>"
            ]
          },
          "metadata": {},
          "execution_count": 34
        }
      ],
      "source": [
        "# Your code here:\n",
        "\n",
        "valuable_inventory = df.group_by([\"Color\", \"Cut\"]).agg(\n",
        "    pl.sum(\"Price\").alias(\"Total Inventory Value\"),\n",
        "    pl.len().alias(\"Number of Diamonds\")\n",
        ").sort(\"Total Inventory Value\", descending=True)\n",
        "\n",
        "valuable_inventory.head(5)"
      ]
    },
    {
      "cell_type": "markdown",
      "metadata": {
        "id": "ydylc7Pf0_WB"
      },
      "source": [
        "## Debrief\n",
        "\n",
        "Congratulations! You've just completed your first day as the diamond company's data analyst.\n",
        "\n",
        "Remember:\n",
        "- CEOs speak in business language, not technical terms\n",
        "- Always understand what each row represents before analyzing\n",
        "- Business questions contain clues about which operations to use"
      ]
    }
  ],
  "metadata": {
    "kernelspec": {
      "display_name": "Python 3",
      "language": "python",
      "name": "python3"
    },
    "language_info": {
      "codemirror_mode": {
        "name": "ipython",
        "version": 3
      },
      "file_extension": ".py",
      "mimetype": "text/x-python",
      "name": "python",
      "nbconvert_exporter": "python",
      "pygments_lexer": "ipython3",
      "version": "3.12.0"
    },
    "colab": {
      "provenance": []
    }
  },
  "nbformat": 4,
  "nbformat_minor": 0
}